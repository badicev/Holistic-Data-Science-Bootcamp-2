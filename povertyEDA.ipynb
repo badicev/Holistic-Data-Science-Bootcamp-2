{
 "cells": [
  {
   "attachments": {},
   "cell_type": "markdown",
   "metadata": {},
   "source": [
    "Goal 10: Reduce inequality within and among countries\n",
    "\n",
    "<small> SDG INDICATOR 10.2.1 <br>\n",
    "<b>People living below 50 per cent of median income</b>\n",
    "\n",
    "*Definition*: Indicator 10.2.1 is the proportion of people living below 50 per cent of median income, by sex, age and persons with disabilities.\n",
    "\n",
    "*Goal*: By 2030, empower and promote the social, economic and political inclusion of all, irrespective of age, sex, disability, race, ethnicity, origin, religion or economic or other status. <small/>"
   ]
  },
  {
   "cell_type": "code",
   "execution_count": 49,
   "metadata": {},
   "outputs": [],
   "source": [
    "import pandas as pd\n",
    "import csv\n",
    "    "
   ]
  },
  {
   "cell_type": "code",
   "execution_count": 50,
   "metadata": {},
   "outputs": [],
   "source": [
    "df = pd.read_csv('poverty_data.csv')"
   ]
  },
  {
   "cell_type": "code",
   "execution_count": 51,
   "metadata": {},
   "outputs": [
    {
     "data": {
      "text/plain": [
       "Index(['country', 'year', 'reporting_level', 'welfare_type', 'ppp_version',\n",
       "       'survey_year', 'survey_comparability',\n",
       "       'headcount_ratio_international_povline',\n",
       "       'headcount_ratio_lower_mid_income_povline',\n",
       "       'headcount_ratio_upper_mid_income_povline',\n",
       "       ...\n",
       "       'decile8_thr', 'decile9_thr', 'gini', 'mld', 'polarization',\n",
       "       'palma_ratio', 's80_s20_ratio', 'p90_p10_ratio', 'p90_p50_ratio',\n",
       "       'p50_p10_ratio'],\n",
       "      dtype='object', length=108)"
      ]
     },
     "execution_count": 51,
     "metadata": {},
     "output_type": "execute_result"
    }
   ],
   "source": [
    "df.columns\n",
    "    "
   ]
  },
  {
   "cell_type": "code",
   "execution_count": 52,
   "metadata": {},
   "outputs": [
    {
     "ename": "ModuleNotFoundError",
     "evalue": "No module named 'openpyxl'",
     "output_type": "error",
     "traceback": [
      "\u001b[1;31m---------------------------------------------------------------------------\u001b[0m",
      "\u001b[1;31mModuleNotFoundError\u001b[0m                       Traceback (most recent call last)",
      "Cell \u001b[1;32mIn[52], line 7\u001b[0m\n\u001b[0;32m      4\u001b[0m variables\n\u001b[0;32m      6\u001b[0m \u001b[39m#Variables to excel\u001b[39;00m\n\u001b[1;32m----> 7\u001b[0m variables\u001b[39m.\u001b[39;49mto_excel(\u001b[39m'\u001b[39;49m\u001b[39mpoverty_variables.xlsx\u001b[39;49m\u001b[39m'\u001b[39;49m, index\u001b[39m=\u001b[39;49m\u001b[39mFalse\u001b[39;49;00m)\n",
      "File \u001b[1;32mc:\\Users\\basak\\miniconda3\\envs\\tf\\lib\\site-packages\\pandas\\util\\_decorators.py:211\u001b[0m, in \u001b[0;36mdeprecate_kwarg.<locals>._deprecate_kwarg.<locals>.wrapper\u001b[1;34m(*args, **kwargs)\u001b[0m\n\u001b[0;32m    209\u001b[0m     \u001b[39melse\u001b[39;00m:\n\u001b[0;32m    210\u001b[0m         kwargs[new_arg_name] \u001b[39m=\u001b[39m new_arg_value\n\u001b[1;32m--> 211\u001b[0m \u001b[39mreturn\u001b[39;00m func(\u001b[39m*\u001b[39margs, \u001b[39m*\u001b[39m\u001b[39m*\u001b[39mkwargs)\n",
      "File \u001b[1;32mc:\\Users\\basak\\miniconda3\\envs\\tf\\lib\\site-packages\\pandas\\util\\_decorators.py:211\u001b[0m, in \u001b[0;36mdeprecate_kwarg.<locals>._deprecate_kwarg.<locals>.wrapper\u001b[1;34m(*args, **kwargs)\u001b[0m\n\u001b[0;32m    209\u001b[0m     \u001b[39melse\u001b[39;00m:\n\u001b[0;32m    210\u001b[0m         kwargs[new_arg_name] \u001b[39m=\u001b[39m new_arg_value\n\u001b[1;32m--> 211\u001b[0m \u001b[39mreturn\u001b[39;00m func(\u001b[39m*\u001b[39margs, \u001b[39m*\u001b[39m\u001b[39m*\u001b[39mkwargs)\n",
      "File \u001b[1;32mc:\\Users\\basak\\miniconda3\\envs\\tf\\lib\\site-packages\\pandas\\core\\generic.py:2374\u001b[0m, in \u001b[0;36mNDFrame.to_excel\u001b[1;34m(self, excel_writer, sheet_name, na_rep, float_format, columns, header, index, index_label, startrow, startcol, engine, merge_cells, encoding, inf_rep, verbose, freeze_panes, storage_options)\u001b[0m\n\u001b[0;32m   2361\u001b[0m \u001b[39mfrom\u001b[39;00m \u001b[39mpandas\u001b[39;00m\u001b[39m.\u001b[39;00m\u001b[39mio\u001b[39;00m\u001b[39m.\u001b[39;00m\u001b[39mformats\u001b[39;00m\u001b[39m.\u001b[39;00m\u001b[39mexcel\u001b[39;00m \u001b[39mimport\u001b[39;00m ExcelFormatter\n\u001b[0;32m   2363\u001b[0m formatter \u001b[39m=\u001b[39m ExcelFormatter(\n\u001b[0;32m   2364\u001b[0m     df,\n\u001b[0;32m   2365\u001b[0m     na_rep\u001b[39m=\u001b[39mna_rep,\n\u001b[1;32m   (...)\u001b[0m\n\u001b[0;32m   2372\u001b[0m     inf_rep\u001b[39m=\u001b[39minf_rep,\n\u001b[0;32m   2373\u001b[0m )\n\u001b[1;32m-> 2374\u001b[0m formatter\u001b[39m.\u001b[39;49mwrite(\n\u001b[0;32m   2375\u001b[0m     excel_writer,\n\u001b[0;32m   2376\u001b[0m     sheet_name\u001b[39m=\u001b[39;49msheet_name,\n\u001b[0;32m   2377\u001b[0m     startrow\u001b[39m=\u001b[39;49mstartrow,\n\u001b[0;32m   2378\u001b[0m     startcol\u001b[39m=\u001b[39;49mstartcol,\n\u001b[0;32m   2379\u001b[0m     freeze_panes\u001b[39m=\u001b[39;49mfreeze_panes,\n\u001b[0;32m   2380\u001b[0m     engine\u001b[39m=\u001b[39;49mengine,\n\u001b[0;32m   2381\u001b[0m     storage_options\u001b[39m=\u001b[39;49mstorage_options,\n\u001b[0;32m   2382\u001b[0m )\n",
      "File \u001b[1;32mc:\\Users\\basak\\miniconda3\\envs\\tf\\lib\\site-packages\\pandas\\io\\formats\\excel.py:918\u001b[0m, in \u001b[0;36mExcelFormatter.write\u001b[1;34m(self, writer, sheet_name, startrow, startcol, freeze_panes, engine, storage_options)\u001b[0m\n\u001b[0;32m    914\u001b[0m     need_save \u001b[39m=\u001b[39m \u001b[39mFalse\u001b[39;00m\n\u001b[0;32m    915\u001b[0m \u001b[39melse\u001b[39;00m:\n\u001b[0;32m    916\u001b[0m     \u001b[39m# error: Cannot instantiate abstract class 'ExcelWriter' with abstract\u001b[39;00m\n\u001b[0;32m    917\u001b[0m     \u001b[39m# attributes 'engine', 'save', 'supported_extensions' and 'write_cells'\u001b[39;00m\n\u001b[1;32m--> 918\u001b[0m     writer \u001b[39m=\u001b[39m ExcelWriter(  \u001b[39m# type: ignore[abstract]\u001b[39;49;00m\n\u001b[0;32m    919\u001b[0m         writer, engine\u001b[39m=\u001b[39;49mengine, storage_options\u001b[39m=\u001b[39;49mstorage_options\n\u001b[0;32m    920\u001b[0m     )\n\u001b[0;32m    921\u001b[0m     need_save \u001b[39m=\u001b[39m \u001b[39mTrue\u001b[39;00m\n\u001b[0;32m    923\u001b[0m \u001b[39mtry\u001b[39;00m:\n",
      "File \u001b[1;32mc:\\Users\\basak\\miniconda3\\envs\\tf\\lib\\site-packages\\pandas\\io\\excel\\_openpyxl.py:56\u001b[0m, in \u001b[0;36mOpenpyxlWriter.__init__\u001b[1;34m(self, path, engine, date_format, datetime_format, mode, storage_options, if_sheet_exists, engine_kwargs, **kwargs)\u001b[0m\n\u001b[0;32m     43\u001b[0m \u001b[39mdef\u001b[39;00m \u001b[39m__init__\u001b[39m(\n\u001b[0;32m     44\u001b[0m     \u001b[39mself\u001b[39m,\n\u001b[0;32m     45\u001b[0m     path: FilePath \u001b[39m|\u001b[39m WriteExcelBuffer \u001b[39m|\u001b[39m ExcelWriter,\n\u001b[1;32m   (...)\u001b[0m\n\u001b[0;32m     54\u001b[0m ) \u001b[39m-\u001b[39m\u001b[39m>\u001b[39m \u001b[39mNone\u001b[39;00m:\n\u001b[0;32m     55\u001b[0m     \u001b[39m# Use the openpyxl module as the Excel writer.\u001b[39;00m\n\u001b[1;32m---> 56\u001b[0m     \u001b[39mfrom\u001b[39;00m \u001b[39mopenpyxl\u001b[39;00m\u001b[39m.\u001b[39;00m\u001b[39mworkbook\u001b[39;00m \u001b[39mimport\u001b[39;00m Workbook\n\u001b[0;32m     58\u001b[0m     engine_kwargs \u001b[39m=\u001b[39m combine_kwargs(engine_kwargs, kwargs)\n\u001b[0;32m     60\u001b[0m     \u001b[39msuper\u001b[39m()\u001b[39m.\u001b[39m\u001b[39m__init__\u001b[39m(\n\u001b[0;32m     61\u001b[0m         path,\n\u001b[0;32m     62\u001b[0m         mode\u001b[39m=\u001b[39mmode,\n\u001b[1;32m   (...)\u001b[0m\n\u001b[0;32m     65\u001b[0m         engine_kwargs\u001b[39m=\u001b[39mengine_kwargs,\n\u001b[0;32m     66\u001b[0m     )\n",
      "\u001b[1;31mModuleNotFoundError\u001b[0m: No module named 'openpyxl'"
     ]
    }
   ],
   "source": [
    "variables = pd.read_csv('poverty_variables.csv')\n",
    " \n",
    "    \n",
    "variables\n",
    "\n",
    "#Variables to excel\n",
    "variables.to_excel('poverty_variables.xlsx', index=False)\n",
    "    \n"
   ]
  },
  {
   "cell_type": "code",
   "execution_count": 53,
   "metadata": {},
   "outputs": [
    {
     "data": {
      "text/plain": [
       "array(['national', 'urban', 'rural', nan], dtype=object)"
      ]
     },
     "execution_count": 53,
     "metadata": {},
     "output_type": "execute_result"
    }
   ],
   "source": [
    "#reporting level might be a national, rural or urban. I will be looking at the national level\n",
    "df.reporting_level.unique()\n",
    "    "
   ]
  },
  {
   "cell_type": "code",
   "execution_count": 54,
   "metadata": {},
   "outputs": [
    {
     "data": {
      "text/plain": [
       "array(['national'], dtype=object)"
      ]
     },
     "execution_count": 54,
     "metadata": {},
     "output_type": "execute_result"
    }
   ],
   "source": [
    "df = df[df.reporting_level == 'national']\n",
    "df.reporting_level.unique()"
   ]
  },
  {
   "cell_type": "code",
   "execution_count": 55,
   "metadata": {},
   "outputs": [
    {
     "data": {
      "text/html": [
       "<div>\n",
       "<style scoped>\n",
       "    .dataframe tbody tr th:only-of-type {\n",
       "        vertical-align: middle;\n",
       "    }\n",
       "\n",
       "    .dataframe tbody tr th {\n",
       "        vertical-align: top;\n",
       "    }\n",
       "\n",
       "    .dataframe thead th {\n",
       "        text-align: right;\n",
       "    }\n",
       "</style>\n",
       "<table border=\"1\" class=\"dataframe\">\n",
       "  <thead>\n",
       "    <tr style=\"text-align: right;\">\n",
       "      <th></th>\n",
       "      <th>country</th>\n",
       "      <th>year</th>\n",
       "      <th>reporting_level</th>\n",
       "      <th>welfare_type</th>\n",
       "      <th>ppp_version</th>\n",
       "      <th>survey_year</th>\n",
       "      <th>survey_comparability</th>\n",
       "      <th>headcount_ratio_international_povline</th>\n",
       "      <th>headcount_ratio_lower_mid_income_povline</th>\n",
       "      <th>headcount_ratio_upper_mid_income_povline</th>\n",
       "      <th>...</th>\n",
       "      <th>decile8_thr</th>\n",
       "      <th>decile9_thr</th>\n",
       "      <th>gini</th>\n",
       "      <th>mld</th>\n",
       "      <th>polarization</th>\n",
       "      <th>palma_ratio</th>\n",
       "      <th>s80_s20_ratio</th>\n",
       "      <th>p90_p10_ratio</th>\n",
       "      <th>p90_p50_ratio</th>\n",
       "      <th>p50_p10_ratio</th>\n",
       "    </tr>\n",
       "  </thead>\n",
       "  <tbody>\n",
       "    <tr>\n",
       "      <th>0</th>\n",
       "      <td>Albania</td>\n",
       "      <td>1996</td>\n",
       "      <td>national</td>\n",
       "      <td>consumption</td>\n",
       "      <td>2011</td>\n",
       "      <td>1996.0</td>\n",
       "      <td>0.0</td>\n",
       "      <td>0.920669</td>\n",
       "      <td>11.174149</td>\n",
       "      <td>44.618417</td>\n",
       "      <td>...</td>\n",
       "      <td>8.85</td>\n",
       "      <td>10.92</td>\n",
       "      <td>0.270103</td>\n",
       "      <td>0.119104</td>\n",
       "      <td>0.241293</td>\n",
       "      <td>0.928335</td>\n",
       "      <td>3.945872</td>\n",
       "      <td>3.568627</td>\n",
       "      <td>1.889273</td>\n",
       "      <td>1.888889</td>\n",
       "    </tr>\n",
       "    <tr>\n",
       "      <th>1</th>\n",
       "      <td>Albania</td>\n",
       "      <td>2002</td>\n",
       "      <td>national</td>\n",
       "      <td>consumption</td>\n",
       "      <td>2011</td>\n",
       "      <td>2002.0</td>\n",
       "      <td>1.0</td>\n",
       "      <td>1.570843</td>\n",
       "      <td>14.132118</td>\n",
       "      <td>49.669635</td>\n",
       "      <td>...</td>\n",
       "      <td>8.83</td>\n",
       "      <td>11.58</td>\n",
       "      <td>0.317390</td>\n",
       "      <td>0.164812</td>\n",
       "      <td>0.268982</td>\n",
       "      <td>1.215056</td>\n",
       "      <td>4.831625</td>\n",
       "      <td>3.979381</td>\n",
       "      <td>2.090253</td>\n",
       "      <td>1.903780</td>\n",
       "    </tr>\n",
       "    <tr>\n",
       "      <th>2</th>\n",
       "      <td>Albania</td>\n",
       "      <td>2005</td>\n",
       "      <td>national</td>\n",
       "      <td>consumption</td>\n",
       "      <td>2011</td>\n",
       "      <td>2005.0</td>\n",
       "      <td>1.0</td>\n",
       "      <td>0.860527</td>\n",
       "      <td>8.715685</td>\n",
       "      <td>38.545254</td>\n",
       "      <td>...</td>\n",
       "      <td>10.02</td>\n",
       "      <td>12.78</td>\n",
       "      <td>0.305957</td>\n",
       "      <td>0.154413</td>\n",
       "      <td>0.254529</td>\n",
       "      <td>1.142718</td>\n",
       "      <td>4.662236</td>\n",
       "      <td>3.872727</td>\n",
       "      <td>1.978328</td>\n",
       "      <td>1.957576</td>\n",
       "    </tr>\n",
       "    <tr>\n",
       "      <th>3</th>\n",
       "      <td>Albania</td>\n",
       "      <td>2008</td>\n",
       "      <td>national</td>\n",
       "      <td>consumption</td>\n",
       "      <td>2011</td>\n",
       "      <td>2008.0</td>\n",
       "      <td>1.0</td>\n",
       "      <td>0.313650</td>\n",
       "      <td>5.250542</td>\n",
       "      <td>31.110345</td>\n",
       "      <td>...</td>\n",
       "      <td>10.74</td>\n",
       "      <td>13.62</td>\n",
       "      <td>0.299847</td>\n",
       "      <td>0.148893</td>\n",
       "      <td>0.247311</td>\n",
       "      <td>1.114657</td>\n",
       "      <td>4.395911</td>\n",
       "      <td>3.574803</td>\n",
       "      <td>1.956897</td>\n",
       "      <td>1.826772</td>\n",
       "    </tr>\n",
       "    <tr>\n",
       "      <th>4</th>\n",
       "      <td>Albania</td>\n",
       "      <td>2012</td>\n",
       "      <td>national</td>\n",
       "      <td>consumption</td>\n",
       "      <td>2011</td>\n",
       "      <td>2012.0</td>\n",
       "      <td>1.0</td>\n",
       "      <td>0.849754</td>\n",
       "      <td>6.182414</td>\n",
       "      <td>34.528906</td>\n",
       "      <td>...</td>\n",
       "      <td>10.52</td>\n",
       "      <td>13.26</td>\n",
       "      <td>0.289605</td>\n",
       "      <td>0.138417</td>\n",
       "      <td>0.249988</td>\n",
       "      <td>1.041193</td>\n",
       "      <td>4.272573</td>\n",
       "      <td>3.632877</td>\n",
       "      <td>1.941435</td>\n",
       "      <td>1.871233</td>\n",
       "    </tr>\n",
       "    <tr>\n",
       "      <th>...</th>\n",
       "      <td>...</td>\n",
       "      <td>...</td>\n",
       "      <td>...</td>\n",
       "      <td>...</td>\n",
       "      <td>...</td>\n",
       "      <td>...</td>\n",
       "      <td>...</td>\n",
       "      <td>...</td>\n",
       "      <td>...</td>\n",
       "      <td>...</td>\n",
       "      <td>...</td>\n",
       "      <td>...</td>\n",
       "      <td>...</td>\n",
       "      <td>...</td>\n",
       "      <td>...</td>\n",
       "      <td>...</td>\n",
       "      <td>...</td>\n",
       "      <td>...</td>\n",
       "      <td>...</td>\n",
       "      <td>...</td>\n",
       "      <td>...</td>\n",
       "    </tr>\n",
       "    <tr>\n",
       "      <th>4872</th>\n",
       "      <td>Zambia</td>\n",
       "      <td>2010</td>\n",
       "      <td>national</td>\n",
       "      <td>consumption</td>\n",
       "      <td>2017</td>\n",
       "      <td>2010.0</td>\n",
       "      <td>4.0</td>\n",
       "      <td>68.456606</td>\n",
       "      <td>82.885088</td>\n",
       "      <td>93.044964</td>\n",
       "      <td>...</td>\n",
       "      <td>3.27</td>\n",
       "      <td>5.34</td>\n",
       "      <td>0.556215</td>\n",
       "      <td>0.539135</td>\n",
       "      <td>0.536149</td>\n",
       "      <td>4.278696</td>\n",
       "      <td>16.024650</td>\n",
       "      <td>10.470588</td>\n",
       "      <td>3.955556</td>\n",
       "      <td>2.647059</td>\n",
       "    </tr>\n",
       "    <tr>\n",
       "      <th>4873</th>\n",
       "      <td>Zambia</td>\n",
       "      <td>2015</td>\n",
       "      <td>national</td>\n",
       "      <td>consumption</td>\n",
       "      <td>2017</td>\n",
       "      <td>2015.0</td>\n",
       "      <td>4.0</td>\n",
       "      <td>61.352160</td>\n",
       "      <td>77.548045</td>\n",
       "      <td>90.747141</td>\n",
       "      <td>...</td>\n",
       "      <td>4.02</td>\n",
       "      <td>6.43</td>\n",
       "      <td>0.571361</td>\n",
       "      <td>0.604667</td>\n",
       "      <td>0.613181</td>\n",
       "      <td>4.995829</td>\n",
       "      <td>21.243915</td>\n",
       "      <td>13.978261</td>\n",
       "      <td>4.095541</td>\n",
       "      <td>3.413043</td>\n",
       "    </tr>\n",
       "    <tr>\n",
       "      <th>4874</th>\n",
       "      <td>Zimbabwe</td>\n",
       "      <td>2011</td>\n",
       "      <td>national</td>\n",
       "      <td>consumption</td>\n",
       "      <td>2017</td>\n",
       "      <td>2011.0</td>\n",
       "      <td>0.0</td>\n",
       "      <td>21.580063</td>\n",
       "      <td>47.857143</td>\n",
       "      <td>77.945113</td>\n",
       "      <td>...</td>\n",
       "      <td>7.25</td>\n",
       "      <td>10.54</td>\n",
       "      <td>0.431536</td>\n",
       "      <td>0.311153</td>\n",
       "      <td>0.388356</td>\n",
       "      <td>2.207938</td>\n",
       "      <td>8.526847</td>\n",
       "      <td>6.713376</td>\n",
       "      <td>2.773684</td>\n",
       "      <td>2.420382</td>\n",
       "    </tr>\n",
       "    <tr>\n",
       "      <th>4875</th>\n",
       "      <td>Zimbabwe</td>\n",
       "      <td>2017</td>\n",
       "      <td>national</td>\n",
       "      <td>consumption</td>\n",
       "      <td>2017</td>\n",
       "      <td>2017.0</td>\n",
       "      <td>0.0</td>\n",
       "      <td>34.206046</td>\n",
       "      <td>61.583570</td>\n",
       "      <td>84.109019</td>\n",
       "      <td>...</td>\n",
       "      <td>5.96</td>\n",
       "      <td>8.81</td>\n",
       "      <td>0.443371</td>\n",
       "      <td>0.322848</td>\n",
       "      <td>0.416694</td>\n",
       "      <td>2.307359</td>\n",
       "      <td>8.569542</td>\n",
       "      <td>6.574627</td>\n",
       "      <td>3.069686</td>\n",
       "      <td>2.141791</td>\n",
       "    </tr>\n",
       "    <tr>\n",
       "      <th>4876</th>\n",
       "      <td>Zimbabwe</td>\n",
       "      <td>2019</td>\n",
       "      <td>national</td>\n",
       "      <td>consumption</td>\n",
       "      <td>2017</td>\n",
       "      <td>2019.0</td>\n",
       "      <td>0.0</td>\n",
       "      <td>39.754533</td>\n",
       "      <td>64.509857</td>\n",
       "      <td>85.016315</td>\n",
       "      <td>...</td>\n",
       "      <td>5.76</td>\n",
       "      <td>9.01</td>\n",
       "      <td>0.502565</td>\n",
       "      <td>0.427862</td>\n",
       "      <td>0.463899</td>\n",
       "      <td>NaN</td>\n",
       "      <td>NaN</td>\n",
       "      <td>8.190909</td>\n",
       "      <td>3.400000</td>\n",
       "      <td>2.409091</td>\n",
       "    </tr>\n",
       "  </tbody>\n",
       "</table>\n",
       "<p>4049 rows × 108 columns</p>\n",
       "</div>"
      ],
      "text/plain": [
       "       country  year reporting_level welfare_type  ppp_version  survey_year  \\\n",
       "0      Albania  1996        national  consumption         2011       1996.0   \n",
       "1      Albania  2002        national  consumption         2011       2002.0   \n",
       "2      Albania  2005        national  consumption         2011       2005.0   \n",
       "3      Albania  2008        national  consumption         2011       2008.0   \n",
       "4      Albania  2012        national  consumption         2011       2012.0   \n",
       "...        ...   ...             ...          ...          ...          ...   \n",
       "4872    Zambia  2010        national  consumption         2017       2010.0   \n",
       "4873    Zambia  2015        national  consumption         2017       2015.0   \n",
       "4874  Zimbabwe  2011        national  consumption         2017       2011.0   \n",
       "4875  Zimbabwe  2017        national  consumption         2017       2017.0   \n",
       "4876  Zimbabwe  2019        national  consumption         2017       2019.0   \n",
       "\n",
       "      survey_comparability  headcount_ratio_international_povline  \\\n",
       "0                      0.0                               0.920669   \n",
       "1                      1.0                               1.570843   \n",
       "2                      1.0                               0.860527   \n",
       "3                      1.0                               0.313650   \n",
       "4                      1.0                               0.849754   \n",
       "...                    ...                                    ...   \n",
       "4872                   4.0                              68.456606   \n",
       "4873                   4.0                              61.352160   \n",
       "4874                   0.0                              21.580063   \n",
       "4875                   0.0                              34.206046   \n",
       "4876                   0.0                              39.754533   \n",
       "\n",
       "      headcount_ratio_lower_mid_income_povline  \\\n",
       "0                                    11.174149   \n",
       "1                                    14.132118   \n",
       "2                                     8.715685   \n",
       "3                                     5.250542   \n",
       "4                                     6.182414   \n",
       "...                                        ...   \n",
       "4872                                 82.885088   \n",
       "4873                                 77.548045   \n",
       "4874                                 47.857143   \n",
       "4875                                 61.583570   \n",
       "4876                                 64.509857   \n",
       "\n",
       "      headcount_ratio_upper_mid_income_povline  ...  decile8_thr  decile9_thr  \\\n",
       "0                                    44.618417  ...         8.85        10.92   \n",
       "1                                    49.669635  ...         8.83        11.58   \n",
       "2                                    38.545254  ...        10.02        12.78   \n",
       "3                                    31.110345  ...        10.74        13.62   \n",
       "4                                    34.528906  ...        10.52        13.26   \n",
       "...                                        ...  ...          ...          ...   \n",
       "4872                                 93.044964  ...         3.27         5.34   \n",
       "4873                                 90.747141  ...         4.02         6.43   \n",
       "4874                                 77.945113  ...         7.25        10.54   \n",
       "4875                                 84.109019  ...         5.96         8.81   \n",
       "4876                                 85.016315  ...         5.76         9.01   \n",
       "\n",
       "          gini       mld  polarization  palma_ratio  s80_s20_ratio  \\\n",
       "0     0.270103  0.119104      0.241293     0.928335       3.945872   \n",
       "1     0.317390  0.164812      0.268982     1.215056       4.831625   \n",
       "2     0.305957  0.154413      0.254529     1.142718       4.662236   \n",
       "3     0.299847  0.148893      0.247311     1.114657       4.395911   \n",
       "4     0.289605  0.138417      0.249988     1.041193       4.272573   \n",
       "...        ...       ...           ...          ...            ...   \n",
       "4872  0.556215  0.539135      0.536149     4.278696      16.024650   \n",
       "4873  0.571361  0.604667      0.613181     4.995829      21.243915   \n",
       "4874  0.431536  0.311153      0.388356     2.207938       8.526847   \n",
       "4875  0.443371  0.322848      0.416694     2.307359       8.569542   \n",
       "4876  0.502565  0.427862      0.463899          NaN            NaN   \n",
       "\n",
       "      p90_p10_ratio  p90_p50_ratio  p50_p10_ratio  \n",
       "0          3.568627       1.889273       1.888889  \n",
       "1          3.979381       2.090253       1.903780  \n",
       "2          3.872727       1.978328       1.957576  \n",
       "3          3.574803       1.956897       1.826772  \n",
       "4          3.632877       1.941435       1.871233  \n",
       "...             ...            ...            ...  \n",
       "4872      10.470588       3.955556       2.647059  \n",
       "4873      13.978261       4.095541       3.413043  \n",
       "4874       6.713376       2.773684       2.420382  \n",
       "4875       6.574627       3.069686       2.141791  \n",
       "4876       8.190909       3.400000       2.409091  \n",
       "\n",
       "[4049 rows x 108 columns]"
      ]
     },
     "execution_count": 55,
     "metadata": {},
     "output_type": "execute_result"
    }
   ],
   "source": [
    "df"
   ]
  },
  {
   "cell_type": "code",
   "execution_count": 56,
   "metadata": {},
   "outputs": [
    {
     "data": {
      "text/plain": [
       "array([0., 1.])"
      ]
     },
     "execution_count": 56,
     "metadata": {},
     "output_type": "execute_result"
    }
   ],
   "source": [
    "#check survey comparability for a given country\n",
    "def survey_comparability(country):\n",
    "    return df[df.country == country].survey_comparability.unique()\n",
    "\n",
    "survey_comparability('Turkey')\n"
   ]
  },
  {
   "attachments": {},
   "cell_type": "markdown",
   "metadata": {},
   "source": [
    "## Exploratory Data Analysis"
   ]
  },
  {
   "attachments": {},
   "cell_type": "markdown",
   "metadata": {},
   "source": [
    "1. Observe the dataset"
   ]
  },
  {
   "attachments": {},
   "cell_type": "markdown",
   "metadata": {},
   "source": [
    "2. Check for missing values"
   ]
  },
  {
   "attachments": {},
   "cell_type": "markdown",
   "metadata": {},
   "source": [
    "3. Categorize the values    "
   ]
  },
  {
   "attachments": {},
   "cell_type": "markdown",
   "metadata": {},
   "source": [
    "<small> \n",
    "\n",
    "*Categorical:* Categorical variables can have a set number of values.\n",
    "\n",
    "*Continuous:* Continuous variables can have an infinite number of values.\n",
    "\n",
    "*Discrete:* Discrete variables can have a set number of values that must be numeric.\n",
    "\n",
    "</small>"
   ]
  },
  {
   "attachments": {},
   "cell_type": "markdown",
   "metadata": {},
   "source": [
    "4-) Shape of the data"
   ]
  },
  {
   "attachments": {},
   "cell_type": "markdown",
   "metadata": {},
   "source": [
    "5-) Relationship between variables"
   ]
  },
  {
   "attachments": {},
   "cell_type": "markdown",
   "metadata": {},
   "source": [
    "6-) Outliers"
   ]
  },
  {
   "attachments": {},
   "cell_type": "markdown",
   "metadata": {},
   "source": [
    "# Predictive Analytics\n"
   ]
  },
  {
   "cell_type": "code",
   "execution_count": null,
   "metadata": {},
   "outputs": [],
   "source": []
  },
  {
   "cell_type": "code",
   "execution_count": 57,
   "metadata": {},
   "outputs": [
    {
     "name": "stdout",
     "output_type": "stream",
     "text": [
      "Coefficients: \n",
      " [[0.00107904]]\n",
      "Mean squared error: 0.01\n",
      "Variance score: 0.22\n"
     ]
    }
   ],
   "source": [
    "from sklearn.model_selection import train_test_split\n",
    "import numpy as np\n",
    "import matplotlib.pyplot as plt\n",
    "from sklearn import datasets, linear_model\n",
    "\n",
    "#check survey comparability for a given country\n",
    "def survey_comparability(country):\n",
    "    return df[df.country == country].survey_comparability.unique()\n",
    "\n",
    "survey_comparability('Turkey')\n",
    "\n",
    "#predict gini by poverty headcount ratio\n",
    "X = df[['headcount_ratio_1000']]\n",
    "y = df[['gini']]\n",
    "\n",
    "\n",
    "#Drop NaN values\n",
    "X = X.dropna()\n",
    "y = y.fillna(y.mean())\n",
    "\n",
    "#Split the data into training/testing sets\n",
    "X_train, X_test, y_train, y_test = train_test_split(X, y, test_size=0.2, random_state=42)\n",
    "\n",
    "from sklearn.metrics import mean_squared_error, r2_score\n",
    "#Forecast time series using linear regression\n",
    "regr = linear_model.LinearRegression()\n",
    "regr.fit(X_train, y_train)\n",
    "y_pred = regr.predict(X_test)\n",
    "\n",
    "# The coefficients\n",
    "print('Coefficients: \\n', regr.coef_)\n",
    "# The mean squared error\n",
    "print(\"Mean squared error: %.2f\"\n",
    "        % mean_squared_error(y_test, y_pred))\n",
    "# Explained variance score: 1 is perfect prediction\n",
    "print('Variance score: %.2f' % r2_score(y_test, y_pred))\n",
    "        \n"
   ]
  },
  {
   "cell_type": "markdown",
   "metadata": {},
   "source": []
  },
  {
   "cell_type": "markdown",
   "metadata": {},
   "source": []
  },
  {
   "cell_type": "code",
   "execution_count": 58,
   "metadata": {},
   "outputs": [
    {
     "data": {
      "text/plain": [
       "[<matplotlib.lines.Line2D at 0x20a9d0d3460>]"
      ]
     },
     "execution_count": 58,
     "metadata": {},
     "output_type": "execute_result"
    },
    {
     "data": {
      "image/png": "[encoded data removed]",
      "text/plain": [
       "<Figure size 640x480 with 1 Axes>"
      ]
     },
     "metadata": {},
     "output_type": "display_data"
    }
   ],
   "source": [
    "#One hot encoding except for the country variable\n",
    "categorical_variables = df.select_dtypes(include=['object']).columns\n",
    "categorical_variables = categorical_variables.drop('country')\n",
    "df = pd.get_dummies(df, columns=categorical_variables, drop_first=True)\n",
    "df\n",
    "\n",
    "  \n",
    "    \n",
    "#For Turkey only\n",
    "df_tr = df[df.country == 'Turkey']\n",
    "#Order by year\n",
    "df_tr = df_tr.sort_values(by=['year'])\n",
    "#plot gini  \n",
    "plt.plot(df_tr.year, df_tr.gini)\n",
    "\n",
    "\n",
    "    "
   ]
  },
  {
   "cell_type": "markdown",
   "metadata": {},
   "source": []
  },
  {
   "cell_type": "code",
   "execution_count": 59,
   "metadata": {},
   "outputs": [
    {
     "data": {
      "text/plain": [
       "[<matplotlib.lines.Line2D at 0x20a9d1080d0>]"
      ]
     },
     "execution_count": 59,
     "metadata": {},
     "output_type": "execute_result"
    },
    {
     "data": {
      "image/png": "[encoded data removed]",
      "text/plain": [
       "<Figure size 640x480 with 1 Axes>"
      ]
     },
     "metadata": {},
     "output_type": "display_data"
    }
   ],
   "source": [
    "#plot poverty headcount ratio\n",
    "plt.plot(df_tr.year, df_tr.headcount_ratio_1000, color='orange')"
   ]
  },
  {
   "attachments": {},
   "cell_type": "markdown",
   "metadata": {},
   "source": [
    "Exclude last 5 years from the dataset for testing purposes"
   ]
  },
  {
   "cell_type": "code",
   "execution_count": 60,
   "metadata": {},
   "outputs": [
    {
     "name": "stdout",
     "output_type": "stream",
     "text": [
      "Coefficients: \n",
      " [[0.0002285]]\n",
      "Mean squared error: 0.00\n",
      "Variance score: -1.05\n",
      "Coefficients: \n",
      " [[ 0.00000000e+00 -3.36967980e-03  3.81023902e-05]]\n",
      "Mean squared error: 0.00\n",
      "Variance score: -0.20\n"
     ]
    },
    {
     "data": {
      "text/plain": [
       "[<matplotlib.lines.Line2D at 0x20a9d18ea30>]"
      ]
     },
     "execution_count": 60,
     "metadata": {},
     "output_type": "execute_result"
    },
    {
     "data": {
      "image/png": "[encoded data removed]",
      "text/plain": [
       "<Figure size 640x480 with 1 Axes>"
      ]
     },
     "metadata": {},
     "output_type": "display_data"
    }
   ],
   "source": [
    "#exclude last 5 years from the dataset for testing purposes\n",
    "#df_tr = df_tr[:-5]\n",
    "\n",
    "#predict gini by poverty headcount ratio\n",
    "X = df_tr[['headcount_ratio_1000']]\n",
    "y = df_tr[['gini']] \n",
    "\n",
    "#Drop NaN values\n",
    "X = X.dropna()\n",
    "y = y.fillna(y.mean())\n",
    "\n",
    "#Split the data into training/testing sets\n",
    "X_train, X_test, y_train, y_test = train_test_split(X, y, test_size=0.2, random_state=42)\n",
    "\n",
    "#Forecast time series using linear regression\n",
    "regr = linear_model.LinearRegression()\n",
    "regr.fit(X_train, y_train)\n",
    "y_pred = regr.predict(X_test)\n",
    "\n",
    "# The coefficients\n",
    "print('Coefficients: \\n', regr.coef_)\n",
    "# The mean squared error\n",
    "print(\"Mean squared error: %.2f\"\n",
    "        % mean_squared_error(y_test, y_pred))\n",
    "# Explained variance score: 1 is perfect prediction \n",
    "print('Variance score: %.2f' % r2_score(y_test, y_pred))\n",
    "\n",
    "#Plot outputs\n",
    "plt.scatter(X_test, y_test,  color='black')\n",
    "plt.plot(X_test, y_pred, color='blue', linewidth=3)\n",
    "\n",
    "\n",
    "#it is non-linear so I will try polynomial regression\n",
    "from sklearn.preprocessing import PolynomialFeatures\n",
    "from sklearn.pipeline import make_pipeline\n",
    "\n",
    "#Forecast time series using polynomial regression\n",
    "model = make_pipeline(PolynomialFeatures(2), linear_model.LinearRegression())\n",
    "model.fit(X_train, y_train)\n",
    "y_pred = model.predict(X_test)\n",
    "\n",
    "# The polynomial coefficients\n",
    "print('Coefficients: \\n', model.steps[1][1].coef_)\n",
    "# The mean squared error\n",
    "print(\"Mean squared error: %.2f\"\n",
    "        % mean_squared_error(y_test, y_pred))\n",
    "# Explained variance score: 1 is perfect prediction\n",
    "print('Variance score: %.2f' % r2_score(y_test, y_pred))\n",
    "    \n",
    "\n",
    "#Plot outputs\n",
    "plt.scatter(X_test, y_test,  color='black')\n",
    "plt.plot(X_test, y_pred, color='blue', linewidth=3)\n",
    "\n"
   ]
  },
  {
   "cell_type": "code",
   "execution_count": 61,
   "metadata": {},
   "outputs": [
    {
     "name": "stdout",
     "output_type": "stream",
     "text": [
      "Epoch 1/100\n",
      "24/24 - 1s - loss: 0.2031 - 1s/epoch - 57ms/step\n",
      "Epoch 2/100\n",
      "24/24 - 0s - loss: 0.1771 - 154ms/epoch - 6ms/step\n",
      "Epoch 3/100\n",
      "24/24 - 0s - loss: 0.1558 - 123ms/epoch - 5ms/step\n",
      "Epoch 4/100\n",
      "24/24 - 0s - loss: 0.1372 - 80ms/epoch - 3ms/step\n",
      "Epoch 5/100\n",
      "24/24 - 0s - loss: 0.1203 - 78ms/epoch - 3ms/step\n",
      "Epoch 6/100\n",
      "24/24 - 0s - loss: 0.1070 - 78ms/epoch - 3ms/step\n",
      "Epoch 7/100\n",
      "24/24 - 0s - loss: 0.0955 - 78ms/epoch - 3ms/step\n",
      "Epoch 8/100\n",
      "24/24 - 0s - loss: 0.0856 - 79ms/epoch - 3ms/step\n",
      "Epoch 9/100\n",
      "24/24 - 0s - loss: 0.0778 - 78ms/epoch - 3ms/step\n",
      "Epoch 10/100\n",
      "24/24 - 0s - loss: 0.0711 - 78ms/epoch - 3ms/step\n",
      "Epoch 11/100\n",
      "24/24 - 0s - loss: 0.0658 - 81ms/epoch - 3ms/step\n",
      "Epoch 12/100\n",
      "24/24 - 0s - loss: 0.0622 - 78ms/epoch - 3ms/step\n",
      "Epoch 13/100\n",
      "24/24 - 0s - loss: 0.0585 - 79ms/epoch - 3ms/step\n",
      "Epoch 14/100\n",
      "24/24 - 0s - loss: 0.0561 - 82ms/epoch - 3ms/step\n",
      "Epoch 15/100\n",
      "24/24 - 0s - loss: 0.0544 - 77ms/epoch - 3ms/step\n",
      "Epoch 16/100\n",
      "24/24 - 0s - loss: 0.0523 - 83ms/epoch - 3ms/step\n",
      "Epoch 17/100\n",
      "24/24 - 0s - loss: 0.0516 - 80ms/epoch - 3ms/step\n",
      "Epoch 18/100\n",
      "24/24 - 0s - loss: 0.0500 - 74ms/epoch - 3ms/step\n",
      "Epoch 19/100\n",
      "24/24 - 0s - loss: 0.0490 - 81ms/epoch - 3ms/step\n",
      "Epoch 20/100\n",
      "24/24 - 0s - loss: 0.0480 - 81ms/epoch - 3ms/step\n",
      "Epoch 21/100\n",
      "24/24 - 0s - loss: 0.0474 - 80ms/epoch - 3ms/step\n",
      "Epoch 22/100\n",
      "24/24 - 0s - loss: 0.0465 - 78ms/epoch - 3ms/step\n",
      "Epoch 23/100\n",
      "24/24 - 0s - loss: 0.0459 - 79ms/epoch - 3ms/step\n",
      "Epoch 24/100\n",
      "24/24 - 0s - loss: 0.0451 - 87ms/epoch - 4ms/step\n",
      "Epoch 25/100\n",
      "24/24 - 0s - loss: 0.0444 - 84ms/epoch - 3ms/step\n",
      "Epoch 26/100\n",
      "24/24 - 0s - loss: 0.0438 - 92ms/epoch - 4ms/step\n",
      "Epoch 27/100\n",
      "24/24 - 0s - loss: 0.0430 - 97ms/epoch - 4ms/step\n",
      "Epoch 28/100\n",
      "24/24 - 0s - loss: 0.0423 - 81ms/epoch - 3ms/step\n",
      "Epoch 29/100\n",
      "24/24 - 0s - loss: 0.0418 - 87ms/epoch - 4ms/step\n",
      "Epoch 30/100\n",
      "24/24 - 0s - loss: 0.0411 - 85ms/epoch - 4ms/step\n",
      "Epoch 31/100\n",
      "24/24 - 0s - loss: 0.0405 - 92ms/epoch - 4ms/step\n",
      "Epoch 32/100\n",
      "24/24 - 0s - loss: 0.0397 - 86ms/epoch - 4ms/step\n",
      "Epoch 33/100\n",
      "24/24 - 0s - loss: 0.0391 - 86ms/epoch - 4ms/step\n",
      "Epoch 34/100\n",
      "24/24 - 0s - loss: 0.0386 - 88ms/epoch - 4ms/step\n",
      "Epoch 35/100\n",
      "24/24 - 0s - loss: 0.0380 - 104ms/epoch - 4ms/step\n",
      "Epoch 36/100\n",
      "24/24 - 0s - loss: 0.0376 - 134ms/epoch - 6ms/step\n",
      "Epoch 37/100\n",
      "24/24 - 0s - loss: 0.0368 - 141ms/epoch - 6ms/step\n",
      "Epoch 38/100\n",
      "24/24 - 0s - loss: 0.0364 - 134ms/epoch - 6ms/step\n",
      "Epoch 39/100\n",
      "24/24 - 0s - loss: 0.0358 - 101ms/epoch - 4ms/step\n",
      "Epoch 40/100\n",
      "24/24 - 0s - loss: 0.0354 - 85ms/epoch - 4ms/step\n",
      "Epoch 41/100\n",
      "24/24 - 0s - loss: 0.0349 - 89ms/epoch - 4ms/step\n",
      "Epoch 42/100\n",
      "24/24 - 0s - loss: 0.0343 - 80ms/epoch - 3ms/step\n",
      "Epoch 43/100\n",
      "24/24 - 0s - loss: 0.0340 - 88ms/epoch - 4ms/step\n",
      "Epoch 44/100\n",
      "24/24 - 0s - loss: 0.0338 - 87ms/epoch - 4ms/step\n",
      "Epoch 45/100\n",
      "24/24 - 0s - loss: 0.0329 - 88ms/epoch - 4ms/step\n",
      "Epoch 46/100\n",
      "24/24 - 0s - loss: 0.0328 - 87ms/epoch - 4ms/step\n",
      "Epoch 47/100\n",
      "24/24 - 0s - loss: 0.0322 - 90ms/epoch - 4ms/step\n",
      "Epoch 48/100\n",
      "24/24 - 0s - loss: 0.0318 - 97ms/epoch - 4ms/step\n",
      "Epoch 49/100\n",
      "24/24 - 0s - loss: 0.0316 - 99ms/epoch - 4ms/step\n",
      "Epoch 50/100\n",
      "24/24 - 0s - loss: 0.0312 - 123ms/epoch - 5ms/step\n",
      "Epoch 51/100\n",
      "24/24 - 0s - loss: 0.0309 - 89ms/epoch - 4ms/step\n",
      "Epoch 52/100\n",
      "24/24 - 0s - loss: 0.0305 - 88ms/epoch - 4ms/step\n",
      "Epoch 53/100\n",
      "24/24 - 0s - loss: 0.0303 - 82ms/epoch - 3ms/step\n",
      "Epoch 54/100\n",
      "24/24 - 0s - loss: 0.0300 - 89ms/epoch - 4ms/step\n",
      "Epoch 55/100\n",
      "24/24 - 0s - loss: 0.0298 - 87ms/epoch - 4ms/step\n",
      "Epoch 56/100\n",
      "24/24 - 0s - loss: 0.0293 - 83ms/epoch - 3ms/step\n",
      "Epoch 57/100\n",
      "24/24 - 0s - loss: 0.0293 - 86ms/epoch - 4ms/step\n",
      "Epoch 58/100\n",
      "24/24 - 0s - loss: 0.0290 - 81ms/epoch - 3ms/step\n",
      "Epoch 59/100\n",
      "24/24 - 0s - loss: 0.0290 - 88ms/epoch - 4ms/step\n",
      "Epoch 60/100\n",
      "24/24 - 0s - loss: 0.0285 - 84ms/epoch - 3ms/step\n",
      "Epoch 61/100\n",
      "24/24 - 0s - loss: 0.0283 - 88ms/epoch - 4ms/step\n",
      "Epoch 62/100\n",
      "24/24 - 0s - loss: 0.0281 - 84ms/epoch - 3ms/step\n",
      "Epoch 63/100\n",
      "24/24 - 0s - loss: 0.0282 - 84ms/epoch - 3ms/step\n",
      "Epoch 64/100\n",
      "24/24 - 0s - loss: 0.0280 - 85ms/epoch - 4ms/step\n",
      "Epoch 65/100\n",
      "24/24 - 0s - loss: 0.0278 - 81ms/epoch - 3ms/step\n",
      "Epoch 66/100\n",
      "24/24 - 0s - loss: 0.0279 - 83ms/epoch - 3ms/step\n",
      "Epoch 67/100\n",
      "24/24 - 0s - loss: 0.0276 - 88ms/epoch - 4ms/step\n",
      "Epoch 68/100\n",
      "24/24 - 0s - loss: 0.0274 - 93ms/epoch - 4ms/step\n",
      "Epoch 69/100\n",
      "24/24 - 0s - loss: 0.0275 - 85ms/epoch - 4ms/step\n",
      "Epoch 70/100\n",
      "24/24 - 0s - loss: 0.0273 - 83ms/epoch - 3ms/step\n",
      "Epoch 71/100\n",
      "24/24 - 0s - loss: 0.0274 - 87ms/epoch - 4ms/step\n",
      "Epoch 72/100\n",
      "24/24 - 0s - loss: 0.0273 - 84ms/epoch - 3ms/step\n",
      "Epoch 73/100\n",
      "24/24 - 0s - loss: 0.0273 - 82ms/epoch - 3ms/step\n",
      "Epoch 74/100\n",
      "24/24 - 0s - loss: 0.0276 - 85ms/epoch - 4ms/step\n",
      "Epoch 75/100\n",
      "24/24 - 0s - loss: 0.0270 - 120ms/epoch - 5ms/step\n",
      "Epoch 76/100\n",
      "24/24 - 0s - loss: 0.0271 - 82ms/epoch - 3ms/step\n",
      "Epoch 77/100\n",
      "24/24 - 0s - loss: 0.0269 - 83ms/epoch - 3ms/step\n",
      "Epoch 78/100\n",
      "24/24 - 0s - loss: 0.0269 - 86ms/epoch - 4ms/step\n",
      "Epoch 79/100\n",
      "24/24 - 0s - loss: 0.0268 - 85ms/epoch - 4ms/step\n",
      "Epoch 80/100\n",
      "24/24 - 0s - loss: 0.0267 - 83ms/epoch - 3ms/step\n",
      "Epoch 81/100\n",
      "24/24 - 0s - loss: 0.0267 - 90ms/epoch - 4ms/step\n",
      "Epoch 82/100\n",
      "24/24 - 0s - loss: 0.0267 - 92ms/epoch - 4ms/step\n",
      "Epoch 83/100\n",
      "24/24 - 0s - loss: 0.0267 - 82ms/epoch - 3ms/step\n",
      "Epoch 84/100\n",
      "24/24 - 0s - loss: 0.0267 - 88ms/epoch - 4ms/step\n",
      "Epoch 85/100\n",
      "24/24 - 0s - loss: 0.0267 - 78ms/epoch - 3ms/step\n",
      "Epoch 86/100\n",
      "24/24 - 0s - loss: 0.0268 - 81ms/epoch - 3ms/step\n",
      "Epoch 87/100\n",
      "24/24 - 0s - loss: 0.0267 - 80ms/epoch - 3ms/step\n",
      "Epoch 88/100\n",
      "24/24 - 0s - loss: 0.0265 - 83ms/epoch - 3ms/step\n",
      "Epoch 89/100\n",
      "24/24 - 0s - loss: 0.0268 - 82ms/epoch - 3ms/step\n",
      "Epoch 90/100\n",
      "24/24 - 0s - loss: 0.0269 - 88ms/epoch - 4ms/step\n",
      "Epoch 91/100\n",
      "24/24 - 0s - loss: 0.0265 - 80ms/epoch - 3ms/step\n",
      "Epoch 92/100\n",
      "24/24 - 0s - loss: 0.0267 - 84ms/epoch - 3ms/step\n",
      "Epoch 93/100\n",
      "24/24 - 0s - loss: 0.0266 - 82ms/epoch - 3ms/step\n",
      "Epoch 94/100\n",
      "24/24 - 0s - loss: 0.0264 - 85ms/epoch - 4ms/step\n",
      "Epoch 95/100\n",
      "24/24 - 0s - loss: 0.0266 - 90ms/epoch - 4ms/step\n",
      "Epoch 96/100\n",
      "24/24 - 0s - loss: 0.0264 - 82ms/epoch - 3ms/step\n",
      "Epoch 97/100\n",
      "24/24 - 0s - loss: 0.0264 - 75ms/epoch - 3ms/step\n",
      "Epoch 98/100\n",
      "24/24 - 0s - loss: 0.0265 - 87ms/epoch - 4ms/step\n",
      "Epoch 99/100\n",
      "24/24 - 0s - loss: 0.0264 - 88ms/epoch - 4ms/step\n",
      "Epoch 100/100\n",
      "24/24 - 0s - loss: 0.0265 - 81ms/epoch - 3ms/step\n",
      "1/1 [==============================] - 0s 356ms/step\n",
      "1/1 [==============================] - 0s 22ms/step\n",
      "Train Score: 0.01 RMSE\n",
      "Test Score: 0.01 RMSE\n"
     ]
    },
    {
     "data": {
      "image/png": "[encoded data removed]",
      "text/plain": [
       "<Figure size 640x480 with 1 Axes>"
      ]
     },
     "metadata": {},
     "output_type": "display_data"
    }
   ],
   "source": [
    "#LSTM to predict gini\n",
    "from keras.models import Sequential\n",
    "from keras.layers import Dense\n",
    "from keras.layers import LSTM\n",
    "from keras.layers import Dropout\n",
    "from sklearn.preprocessing import MinMaxScaler\n",
    "import math\n",
    "from sklearn.metrics import mean_squared_error\n",
    "\n",
    "#Forecast time series using LSTM\n",
    "# fix random seed for reproducibility\n",
    "np.random.seed(7)\n",
    "\n",
    "# normalize the dataset\n",
    "scaler = MinMaxScaler(feature_range=(0, 1))\n",
    "dataset = scaler.fit_transform(df_tr[['gini']])\n",
    "# split into train and test sets\n",
    "train_size = int(len(dataset) * 0.67)\n",
    "test_size = len(dataset) - train_size\n",
    "train, test = dataset[0:train_size,:], dataset[train_size:len(dataset),:]\n",
    "# convert an array of values into a dataset matrix\n",
    "def create_dataset(dataset, look_back=1):\n",
    "    dataX, dataY = [], []\n",
    "    for i in range(len(dataset)-look_back-1):\n",
    "        a = dataset[i:(i+look_back), 0]\n",
    "        dataX.append(a)\n",
    "        dataY.append(dataset[i + look_back, 0])\n",
    "    return np.array(dataX), np.array(dataY)\n",
    "# reshape into X=t and Y=t+1\n",
    "look_back = 1\n",
    "trainX, trainY = create_dataset(train, look_back)\n",
    "testX, testY = create_dataset(test, look_back)\n",
    "# reshape input to be [samples, time steps, features]\n",
    "trainX = np.reshape(trainX, (trainX.shape[0], 1, trainX.shape[1]))\n",
    "testX = np.reshape(testX, (testX.shape[0], 1, testX.shape[1]))\n",
    "# create and fit the LSTM network\n",
    "model = Sequential()\n",
    "model.add(LSTM(4, input_shape=(1, look_back)))\n",
    "model.add(Dense(1))\n",
    "model.compile(loss='mean_squared_error', optimizer='adam')\n",
    "model.fit(trainX, trainY, epochs=100, batch_size=1, verbose=2)\n",
    "# make predictions\n",
    "trainPredict = model.predict(trainX)\n",
    "testPredict = model.predict(testX)\n",
    "# invert predictions\n",
    "trainPredict = scaler.inverse_transform(trainPredict)\n",
    "trainY = scaler.inverse_transform([trainY])\n",
    "testPredict = scaler.inverse_transform(testPredict)\n",
    "testY = scaler.inverse_transform([testY])\n",
    "# calculate root mean squared error\n",
    "trainScore = math.sqrt(mean_squared_error(trainY[0], trainPredict[:,0]))\n",
    "print('Train Score: %.2f RMSE' % (trainScore))\n",
    "testScore = math.sqrt(mean_squared_error(testY[0], testPredict[:,0]))\n",
    "print('Test Score: %.2f RMSE' % (testScore))\n",
    "# shift train predictions for plotting\n",
    "trainPredictPlot = np.empty_like(dataset)\n",
    "trainPredictPlot[:, :] = np.nan\n",
    "trainPredictPlot[look_back:len(trainPredict)+look_back, :] = trainPredict\n",
    "# shift test predictions for plotting\n",
    "testPredictPlot = np.empty_like(dataset)\n",
    "testPredictPlot[:, :] = np.nan\n",
    "testPredictPlot[len(trainPredict)+(look_back*2)+1:len(dataset)-1, :] = testPredict\n",
    "# plot baseline and predictions\n",
    "plt.plot(scaler.inverse_transform(dataset))\n",
    "plt.plot(trainPredictPlot)\n",
    "plt.plot(testPredictPlot)\n",
    "plt.show()\n",
    "    "
   ]
  },
  {
   "cell_type": "code",
   "execution_count": 63,
   "metadata": {},
   "outputs": [
    {
     "data": {
      "text/plain": [
       "[<matplotlib.lines.Line2D at 0x20aa33326d0>]"
      ]
     },
     "execution_count": 63,
     "metadata": {},
     "output_type": "execute_result"
    },
    {
     "data": {
      "image/png": "[encoded data removed]",
      "text/plain": [
       "<Figure size 640x480 with 1 Axes>"
      ]
     },
     "metadata": {},
     "output_type": "display_data"
    }
   ],
   "source": [
    "#Blue is the actual gini, orange is the predicted gini  \n",
    "plt.plot(df_tr.year, df_tr.gini)\n",
    "plt.plot(df_tr.year, trainPredictPlot, color='orange')\n",
    "plt.plot(df_tr.year, testPredictPlot, color='orange')\n",
    "\n",
    "\n",
    "\n",
    "\n"
   ]
  },
  {
   "cell_type": "code",
   "execution_count": 66,
   "metadata": {},
   "outputs": [
    {
     "name": "stdout",
     "output_type": "stream",
     "text": [
      "1/1 [==============================] - 0s 22ms/step\n",
      "1/1 [==============================] - 0s 22ms/step\n"
     ]
    },
    {
     "data": {
      "image/png": "[encoded data removed]",
      "text/plain": [
       "<Figure size 640x480 with 1 Axes>"
      ]
     },
     "metadata": {},
     "output_type": "display_data"
    },
    {
     "data": {
      "text/plain": [
       "[<matplotlib.lines.Line2D at 0x20a9cdc6af0>]"
      ]
     },
     "execution_count": 66,
     "metadata": {},
     "output_type": "execute_result"
    },
    {
     "data": {
      "image/png": "[encoded data removed]",
      "text/plain": [
       "<Figure size 640x480 with 1 Axes>"
      ]
     },
     "metadata": {},
     "output_type": "display_data"
    }
   ],
   "source": [
    "#predict for the next 5 years using teh LSTM\n",
    "# make predictions\n",
    "trainPredict = model.predict(trainX)\n",
    "testPredict = model.predict(testX)\n",
    "# invert predictions\n",
    "trainPredict = scaler.inverse_transform(trainPredict)\n",
    "\n",
    "#shift test predictions for plotting\n",
    "testPredictPlot = np.empty_like(dataset)\n",
    "testPredictPlot[:, :] = np.nan\n",
    "testPredictPlot[len(trainPredict)+(look_back*2)+1:len(dataset)-1, :] = testPredict\n",
    "# plot baseline and predictions\n",
    "plt.plot(scaler.inverse_transform(dataset))\n",
    "plt.plot(trainPredictPlot)\n",
    "plt.plot(testPredictPlot)\n",
    "plt.show()\n",
    "\n",
    "#Blue is the actual gini, orange is the predicted gini\n",
    "plt.plot(df_tr.year, df_tr.gini)\n",
    "plt.plot(df_tr.year, trainPredictPlot, color='orange')\n",
    "plt.plot(df_tr.year, testPredictPlot, color='orange')\n",
    "    \n",
    "\n",
    "    "
   ]
  },
  {
   "cell_type": "code",
   "execution_count": null,
   "metadata": {},
   "outputs": [],
   "source": []
  }
 ],
 "metadata": {
  "kernelspec": {
   "display_name": "Python 3",
   "language": "python",
   "name": "python3"
  },
  "language_info": {
   "codemirror_mode": {
    "name": "ipython",
    "version": 3
   },
   "file_extension": ".py",
   "mimetype": "text/x-python",
   "name": "python",
   "nbconvert_exporter": "python",
   "pygments_lexer": "ipython3",
   "version": "3.9.15"
  },
  "orig_nbformat": 4
 },
 "nbformat": 4,
 "nbformat_minor": 2
}
