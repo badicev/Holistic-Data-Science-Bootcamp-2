{
 "cells": [
  {
   "cell_type": "code",
   "execution_count": 2,
   "metadata": {},
   "outputs": [],
   "source": [
    "import pandas as pd\n",
    "import matplotlib.pyplot as plt\n",
    "\n",
    "#Merge the two datasets again but this time we keep all the columns from both datasets\n",
    "data1 = pd.read_csv('merged.csv')\n",
    "data1['time'] = pd.to_datetime(data1['time'])\n",
    "data1['Year'] = data1['time'].dt.year\n",
    "data1['Mo'] = data1['time'].dt.month\n",
    "data1['Dy'] = data1['time'].dt.day\n",
    "data1['Hr'] = data1['time'].dt.hour\n",
    "data1['Mn'] = data1['time'].dt.minute\n",
    "data1['Sec'] = data1['time'].dt.second\n",
    "data1 = data1.sort_values(by='time')\n",
    "data1 = data1.drop(['time'], axis=1)"
   ]
  },
  {
   "cell_type": "code",
   "execution_count": null,
   "metadata": {},
   "outputs": [],
   "source": [
    "#create a new column based on magnitude ranges\n",
    "def mag_range(val):\n",
    "    if val < 4.5:   \n",
    "        return '3.5 - 4.5'\n",
    "    elif val < 5.5:\n",
    "        return '4.5 - 5.5'\n",
    "    elif val < 6.5:\n",
    "        return '5.5 - 6.5'\n",
    "    elif val < 7.5:\n",
    "        return '6.5 - 7.5'\n",
    "    else:\n",
    "        return '7.5 - 8.5'\n",
    "    \n",
    "data1['mag_range'] = data1['mag'].apply(mag_range)\n",
    "data1['mag_range'].value_counts()"
   ]
  },
  {
   "cell_type": "code",
   "execution_count": 3,
   "metadata": {},
   "outputs": [
    {
     "name": "stdout",
     "output_type": "stream",
     "text": [
      "Animation already exists\n"
     ]
    },
    {
     "name": "stderr",
     "output_type": "stream",
     "text": [
      "C:\\Users\\basak\\AppData\\Local\\Temp\\ipykernel_10660\\4129924490.py:48: DeprecationWarning: Starting with ImageIO v3 the behavior of this function will switch to that of iio.v3.imread. To keep the current behavior (and make this warning disappear) use `import imageio.v2 as imageio` or call `imageio.v2.imread` directly.\n",
      "  images.append(imageio.imread(f'anim/earthquake_mag_{i}.png'))\n"
     ]
    }
   ],
   "source": [
    "import os\n",
    "import numpy as np\n",
    "\n",
    "#make animation\n",
    "years = data1['Year'].unique()\n",
    "if not os.path.exists('anim'):\n",
    "    os.mkdir('anim')\n",
    "    for i in years:\n",
    "        df_year = data1[data1['Year'] == i]\n",
    "        plt.figure(figsize=(20, 15))\n",
    "        plot = sns.countplot(x='mag_range', data=df_year, palette='viridis')\n",
    "        plt.title(f'Earthquake Magnitude in {i}')\n",
    "\n",
    "\n",
    "                                                    \n",
    "\n",
    "        #Keep y-axis range the maximum and minimum values of all of them\n",
    "        plot.set_ylim(0, 15000)\n",
    "      \n",
    "        \n",
    "        #Set x-axis labels\n",
    "        #plot.set_xticklabels(plot.get_xticklabels(), rotation=90)\n",
    "        \n",
    "    \n",
    "        x_labels = ['3.5 - 4.5', '4.5 - 5.5', '5.5 - 6.5', '6.5 - 7.5', '7.5 - 8.5']\n",
    "        \n",
    "        #Keep x-axis in sorted order\n",
    "        plot.set_xticklabels(getattr(plot, 'get_xticklabels', lambda: [])(), rotation=90, horizontalalignment='right')\n",
    "        #Keept x-axis labels in sorted order\n",
    "        plot.set_xticks(np.arange(len(x_labels)), sorted(x_labels))  \n",
    "        \n",
    "        plot.set_xlabel('Magnitude')\n",
    "        plot.set_ylabel('Number of Earthquakes')\n",
    "        #Set a tight layout\n",
    "        plt.tight_layout()\n",
    "        \n",
    "        #Save the figure\n",
    "        plt.savefig(f'anim/earthquake_mag_{i}.png')\n",
    "        #tight_layout automatically adjusts subplot params so that the subplot(s) fits in to the figure area. \n",
    "        plt.close()\n",
    "else:\n",
    "    print('Animation already exists')\n",
    "\n",
    "#Create the animation\n",
    "import imageio\n",
    "images = []\n",
    "for i in years:\n",
    "    images.append(imageio.imread(f'anim/earthquake_mag_{i}.png'))\n",
    "imageio.mimsave('anim/earthquake_mag.gif', images, duration=0.5)\n",
    "\n"
   ]
  },
  {
   "cell_type": "code",
   "execution_count": 4,
   "metadata": {},
   "outputs": [
    {
     "data": {
      "text/html": [
       "<img src=\"anim\\earthquake_mag.gif\"/>"
      ],
      "text/plain": [
       "<IPython.core.display.Image object>"
      ]
     },
     "execution_count": 4,
     "metadata": {},
     "output_type": "execute_result"
    }
   ],
   "source": [
    "#Play the animation\n",
    "from IPython.display import Image\n",
    "Image(url='anim\\earthquake_mag.gif')"
   ]
  },
  {
   "cell_type": "code",
   "execution_count": null,
   "metadata": {},
   "outputs": [],
   "source": []
  }
 ],
 "metadata": {
  "kernelspec": {
   "display_name": "Python 3",
   "language": "python",
   "name": "python3"
  },
  "language_info": {
   "codemirror_mode": {
    "name": "ipython",
    "version": 3
   },
   "file_extension": ".py",
   "mimetype": "text/x-python",
   "name": "python",
   "nbconvert_exporter": "python",
   "pygments_lexer": "ipython3",
   "version": "3.11.0"
  },
  "orig_nbformat": 4
 },
 "nbformat": 4,
 "nbformat_minor": 2
}
